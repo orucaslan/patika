{
  "nbformat": 4,
  "nbformat_minor": 0,
  "metadata": {
    "colab": {
      "name": "Untitled4.ipynb",
      "provenance": [],
      "collapsed_sections": []
    },
    "kernelspec": {
      "name": "python3",
      "display_name": "Python 3"
    },
    "language_info": {
      "name": "python"
    }
  },
  "cells": [
    {
      "cell_type": "markdown",
      "source": [
        "# Patika Python Temel Projeleri\n",
        "***\n",
        "## Proje 1\n",
        "\n",
        "1- Bir listeyi düzleştiren (flatten) fonksiyon yazın. Elemanları birden çok katmanlı listelerden ([[3],2] gibi) oluşabileceği gibi, non-scalar verilerden de oluşabilir. Örnek olarak:\n",
        "\n",
        "input: [[1,'a',['cat'],2],[[[3]],'dog'],4,5]\n",
        "\n",
        "output: [1,'a','cat',2,3,'dog',4,5]"
      ],
      "metadata": {
        "id": "bAEsagOnl7Rp"
      }
    },
    {
      "cell_type": "code",
      "source": [
        "liste = [[1,'a',['cat'],2],[[[3]],'dog'],4,5]\n",
        "\n",
        "def listeDüzleştirme (liste, ana_liste=[]):\n",
        "  \"\"\"\n",
        "  İç içe geçmiş birden çok katmanlı listeleri düzleştirip tek boyutlu bir liste \n",
        "  haline getitir.\n",
        "  \"\"\"\n",
        "  for i in liste:\n",
        "    if type(i) == type(liste):\n",
        "      listeDüzleştirme(i,ana_liste)\n",
        "      continue\n",
        "    ana_liste.append(i)\n",
        "    print(ana_liste)\n",
        "  return ana_liste"
      ],
      "metadata": {
        "id": "gMQmfVrhiSIb"
      },
      "execution_count": 126,
      "outputs": []
    },
    {
      "cell_type": "code",
      "source": [
        "ana_liste = listeDüzleştirme(liste)"
      ],
      "metadata": {
        "colab": {
          "base_uri": "https://localhost:8080/"
        },
        "id": "y4VjWReIjkxX",
        "outputId": "417d9351-bedf-4fdd-b6c5-4837e0e76c8e"
      },
      "execution_count": 127,
      "outputs": [
        {
          "output_type": "stream",
          "name": "stdout",
          "text": [
            "[1]\n",
            "[1, 'a']\n",
            "[1, 'a', 'cat']\n",
            "[1, 'a', 'cat', 2]\n",
            "[1, 'a', 'cat', 2, 3]\n",
            "[1, 'a', 'cat', 2, 3, 'dog']\n",
            "[1, 'a', 'cat', 2, 3, 'dog', 4]\n",
            "[1, 'a', 'cat', 2, 3, 'dog', 4, 5]\n"
          ]
        }
      ]
    },
    {
      "cell_type": "code",
      "source": [
        "print(ana_liste)"
      ],
      "metadata": {
        "colab": {
          "base_uri": "https://localhost:8080/"
        },
        "id": "7-6xjFP8jp6d",
        "outputId": "496eaa4e-0eb8-4396-8988-779f62ea1f23"
      },
      "execution_count": 128,
      "outputs": [
        {
          "output_type": "stream",
          "name": "stdout",
          "text": [
            "[1, 'a', 'cat', 2, 3, 'dog', 4, 5]\n"
          ]
        }
      ]
    },
    {
      "cell_type": "markdown",
      "source": [
        "## Proje 2 \n",
        "\n",
        "2- Verilen listenin içindeki elemanları tersine döndüren bir fonksiyon yazın. Eğer listenin içindeki elemanlar da liste içeriyorsa onların elemanlarını da tersine döndürün. Örnek olarak:\n",
        "\n",
        "input: [[1, 2], [3, 4], [5, 6, 7]]\n",
        "\n",
        "output: [[[7, 6, 5], [4, 3], [2, 1]]"
      ],
      "metadata": {
        "id": "qRfr1Cn8moY-"
      }
    },
    {
      "cell_type": "code",
      "source": [
        "list2 = [[1, 2], [3, 4], [5, 6, 7]]\n",
        "\n",
        "\n",
        "def reverseList (L,new_list=[]):\n",
        "  \"\"\"\n",
        "  Listeyi ve içindeki her bir listeyi ters çevirme\n",
        "  \"\"\"\n",
        "  for i in L[::-1]:\n",
        "    if type(i) == list:\n",
        "      reverseList(i,new_list)\n",
        "      i.reverse()\n",
        "      new_list.append(i)\n",
        "      continue\n",
        "\n",
        "  \n",
        "  return new_list\n",
        "\n",
        "\n",
        "a = reverseList(list2)\n",
        "print (a)"
      ],
      "metadata": {
        "colab": {
          "base_uri": "https://localhost:8080/"
        },
        "id": "4EW6AAcs76xd",
        "outputId": "a86d0c9b-da31-4442-c8cd-c20b9b74c4fc"
      },
      "execution_count": 125,
      "outputs": [
        {
          "output_type": "stream",
          "name": "stdout",
          "text": [
            "[[7, 6, 5], [4, 3], [2, 1]]\n"
          ]
        }
      ]
    },
    {
      "cell_type": "code",
      "source": [
        ""
      ],
      "metadata": {
        "id": "sYB01ROX78yt"
      },
      "execution_count": null,
      "outputs": []
    }
  ]
}